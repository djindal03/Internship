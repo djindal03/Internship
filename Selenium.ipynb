{
 "cells": [
  {
   "cell_type": "code",
   "execution_count": 1,
   "metadata": {},
   "outputs": [
    {
     "name": "stdout",
     "output_type": "stream",
     "text": [
      "Collecting selenium\n",
      "  Downloading selenium-3.141.0-py2.py3-none-any.whl (904 kB)\n",
      "Requirement already satisfied: urllib3 in c:\\users\\admin\\anaconda3\\lib\\site-packages (from selenium) (1.25.9)\n",
      "Installing collected packages: selenium\n",
      "Successfully installed selenium-3.141.0\n"
     ]
    }
   ],
   "source": [
    "#!pip install selenium"
   ]
  },
  {
   "cell_type": "code",
   "execution_count": 1,
   "metadata": {},
   "outputs": [],
   "source": [
    "import selenium\n",
    "from selenium import webdriver\n",
    "import pandas as pd"
   ]
  },
  {
   "cell_type": "code",
   "execution_count": 75,
   "metadata": {},
   "outputs": [],
   "source": [
    "driver=webdriver.Chrome(r'C:\\Users\\admin\\Desktop\\Flip Robo\\Chromedriver\\chromedriver')"
   ]
  },
  {
   "cell_type": "markdown",
   "metadata": {},
   "source": [
    "# Question 1"
   ]
  },
  {
   "cell_type": "code",
   "execution_count": 3,
   "metadata": {},
   "outputs": [],
   "source": [
    "driver.get('https://www.naukri.com/')"
   ]
  },
  {
   "cell_type": "code",
   "execution_count": 4,
   "metadata": {},
   "outputs": [],
   "source": [
    "#Adding the profile and location\n",
    "search_job=driver.find_element_by_id('qsb-keyword-sugg')\n",
    "search_job.send_keys(\"Data Analyst\")\n",
    "search_loc=driver.find_element_by_id('qsb-location-sugg')\n",
    "search_loc.send_keys(\"Bangalore\")\n",
    "search_btn=driver.find_element_by_xpath(\"//div[@class='search-btn']/button\")\n",
    "search_btn.click()"
   ]
  },
  {
   "cell_type": "code",
   "execution_count": 5,
   "metadata": {},
   "outputs": [
    {
     "data": {
      "text/plain": [
       "[<selenium.webdriver.remote.webelement.WebElement (session=\"701f43102690cc32b13c5d1e365e5c51\", element=\"534664b0-efce-47d8-acf2-f46f72af5dda\")>,\n",
       " <selenium.webdriver.remote.webelement.WebElement (session=\"701f43102690cc32b13c5d1e365e5c51\", element=\"6be1e8f5-8843-43a9-8aa7-0f36ddc5f12b\")>,\n",
       " <selenium.webdriver.remote.webelement.WebElement (session=\"701f43102690cc32b13c5d1e365e5c51\", element=\"2d2c4dff-e5df-45e8-96c7-48f1b1016a4d\")>]"
      ]
     },
     "execution_count": 5,
     "metadata": {},
     "output_type": "execute_result"
    }
   ],
   "source": [
    "#scraping title\n",
    "url='https://www.naukri.com/data-analyst-jobs-in-bangalore?k=data%20analyst&l=bangalore'\n",
    "driver.get(url)\n",
    "\n",
    "title=driver.find_elements_by_xpath(\"//a[@class='title fw500 ellipsis']\")\n",
    "title[:3]"
   ]
  },
  {
   "cell_type": "code",
   "execution_count": 6,
   "metadata": {},
   "outputs": [
    {
     "data": {
      "text/plain": [
       "['Azure Data Analyst', 'Data Analyst', 'Data Analyst']"
      ]
     },
     "execution_count": 6,
     "metadata": {},
     "output_type": "execute_result"
    }
   ],
   "source": [
    "job_title=[]\n",
    "\n",
    "for i in title:\n",
    "    job_title.append(i.text)\n",
    "job_title[:3]"
   ]
  },
  {
   "cell_type": "code",
   "execution_count": 10,
   "metadata": {},
   "outputs": [
    {
     "data": {
      "text/plain": [
       "['Bangalore/Bengaluru',\n",
       " 'Bangalore/Bengaluru',\n",
       " 'Bangalore/Bengaluru(Devalapur)']"
      ]
     },
     "execution_count": 10,
     "metadata": {},
     "output_type": "execute_result"
    }
   ],
   "source": [
    "#scraping location\n",
    "loc=driver.find_elements_by_xpath(\"//li[@class='fleft grey-text br2 placeHolderLi location']/span\")\n",
    "job_location=[]\n",
    "\n",
    "for i in loc:\n",
    "    job_location.append(i.text)\n",
    "job_location[:3]"
   ]
  },
  {
   "cell_type": "code",
   "execution_count": 13,
   "metadata": {},
   "outputs": [
    {
     "data": {
      "text/plain": [
       "['Capgemini Technology Services India Limited',\n",
       " 'RedLock, Inc',\n",
       " 'Super India Tech Mark']"
      ]
     },
     "execution_count": 13,
     "metadata": {},
     "output_type": "execute_result"
    }
   ],
   "source": [
    "#scraping company name\n",
    "company=driver.find_elements_by_xpath(\"//a[@class='subTitle ellipsis fleft']\")\n",
    "company_name=[]\n",
    "\n",
    "for i in company:\n",
    "    company_name.append(i.text)\n",
    "company_name[:3]"
   ]
  },
  {
   "cell_type": "code",
   "execution_count": 14,
   "metadata": {},
   "outputs": [
    {
     "data": {
      "text/plain": [
       "['6-8 Yrs', '0-0 Yrs', '0-2 Yrs']"
      ]
     },
     "execution_count": 14,
     "metadata": {},
     "output_type": "execute_result"
    }
   ],
   "source": [
    "#scraping exerience\n",
    "exp=driver.find_elements_by_xpath(\"//li[@class='fleft grey-text br2 placeHolderLi experience']/span\")\n",
    "experience_required=[]\n",
    "\n",
    "for i in exp:\n",
    "    experience_required.append(i.text)\n",
    "experience_required[:3]"
   ]
  },
  {
   "cell_type": "code",
   "execution_count": 15,
   "metadata": {},
   "outputs": [
    {
     "data": {
      "text/html": [
       "<div>\n",
       "<style scoped>\n",
       "    .dataframe tbody tr th:only-of-type {\n",
       "        vertical-align: middle;\n",
       "    }\n",
       "\n",
       "    .dataframe tbody tr th {\n",
       "        vertical-align: top;\n",
       "    }\n",
       "\n",
       "    .dataframe thead th {\n",
       "        text-align: right;\n",
       "    }\n",
       "</style>\n",
       "<table border=\"1\" class=\"dataframe\">\n",
       "  <thead>\n",
       "    <tr style=\"text-align: right;\">\n",
       "      <th></th>\n",
       "      <th>Job Title</th>\n",
       "      <th>Job Location</th>\n",
       "      <th>Company Name</th>\n",
       "      <th>Experience Required</th>\n",
       "    </tr>\n",
       "  </thead>\n",
       "  <tbody>\n",
       "    <tr>\n",
       "      <th>0</th>\n",
       "      <td>Azure Data Analyst</td>\n",
       "      <td>Bangalore/Bengaluru</td>\n",
       "      <td>Capgemini Technology Services India Limited</td>\n",
       "      <td>6-8 Yrs</td>\n",
       "    </tr>\n",
       "    <tr>\n",
       "      <th>1</th>\n",
       "      <td>Data Analyst</td>\n",
       "      <td>Bangalore/Bengaluru</td>\n",
       "      <td>RedLock, Inc</td>\n",
       "      <td>0-0 Yrs</td>\n",
       "    </tr>\n",
       "    <tr>\n",
       "      <th>2</th>\n",
       "      <td>Data Analyst</td>\n",
       "      <td>Bangalore/Bengaluru(Devalapur)</td>\n",
       "      <td>Super India Tech Mark</td>\n",
       "      <td>0-2 Yrs</td>\n",
       "    </tr>\n",
       "    <tr>\n",
       "      <th>3</th>\n",
       "      <td>Data Analyst</td>\n",
       "      <td>Bangalore/Bengaluru</td>\n",
       "      <td>tech mahindra ltd</td>\n",
       "      <td>4-8 Yrs</td>\n",
       "    </tr>\n",
       "    <tr>\n",
       "      <th>4</th>\n",
       "      <td>Data Analyst</td>\n",
       "      <td>Bangalore/Bengaluru</td>\n",
       "      <td>CONDUENT BUSINESS SERVICES INDIA LLP</td>\n",
       "      <td>1-2 Yrs</td>\n",
       "    </tr>\n",
       "    <tr>\n",
       "      <th>5</th>\n",
       "      <td>Data Analyst</td>\n",
       "      <td>Bangalore/Bengaluru</td>\n",
       "      <td>GlaxoSmithKline Pharmaceuticals Limited</td>\n",
       "      <td>2-7 Yrs</td>\n",
       "    </tr>\n",
       "    <tr>\n",
       "      <th>6</th>\n",
       "      <td>Data Analyst</td>\n",
       "      <td>Bangalore/Bengaluru</td>\n",
       "      <td>Myntra Designs Pvt. Ltd.</td>\n",
       "      <td>3-6 Yrs</td>\n",
       "    </tr>\n",
       "    <tr>\n",
       "      <th>7</th>\n",
       "      <td>Data Analyst</td>\n",
       "      <td>Bangalore/Bengaluru</td>\n",
       "      <td>Myntra Designs Pvt. Ltd.</td>\n",
       "      <td>4-8 Yrs</td>\n",
       "    </tr>\n",
       "    <tr>\n",
       "      <th>8</th>\n",
       "      <td>Data Analyst</td>\n",
       "      <td>Bangalore/Bengaluru</td>\n",
       "      <td>Myntra Designs Pvt. Ltd.</td>\n",
       "      <td>3-8 Yrs</td>\n",
       "    </tr>\n",
       "    <tr>\n",
       "      <th>9</th>\n",
       "      <td>Data Analyst</td>\n",
       "      <td>Bangalore/Bengaluru</td>\n",
       "      <td>Myntra Designs Pvt. Ltd.</td>\n",
       "      <td>4-8 Yrs</td>\n",
       "    </tr>\n",
       "  </tbody>\n",
       "</table>\n",
       "</div>"
      ],
      "text/plain": [
       "            Job Title                    Job Location  \\\n",
       "0  Azure Data Analyst             Bangalore/Bengaluru   \n",
       "1        Data Analyst             Bangalore/Bengaluru   \n",
       "2        Data Analyst  Bangalore/Bengaluru(Devalapur)   \n",
       "3        Data Analyst             Bangalore/Bengaluru   \n",
       "4        Data Analyst             Bangalore/Bengaluru   \n",
       "5        Data Analyst             Bangalore/Bengaluru   \n",
       "6        Data Analyst             Bangalore/Bengaluru   \n",
       "7        Data Analyst             Bangalore/Bengaluru   \n",
       "8        Data Analyst             Bangalore/Bengaluru   \n",
       "9        Data Analyst             Bangalore/Bengaluru   \n",
       "\n",
       "                                  Company Name Experience Required  \n",
       "0  Capgemini Technology Services India Limited             6-8 Yrs  \n",
       "1                                 RedLock, Inc             0-0 Yrs  \n",
       "2                        Super India Tech Mark             0-2 Yrs  \n",
       "3                            tech mahindra ltd             4-8 Yrs  \n",
       "4         CONDUENT BUSINESS SERVICES INDIA LLP             1-2 Yrs  \n",
       "5      GlaxoSmithKline Pharmaceuticals Limited             2-7 Yrs  \n",
       "6                     Myntra Designs Pvt. Ltd.             3-6 Yrs  \n",
       "7                     Myntra Designs Pvt. Ltd.             4-8 Yrs  \n",
       "8                     Myntra Designs Pvt. Ltd.             3-8 Yrs  \n",
       "9                     Myntra Designs Pvt. Ltd.             4-8 Yrs  "
      ]
     },
     "execution_count": 15,
     "metadata": {},
     "output_type": "execute_result"
    }
   ],
   "source": [
    "import pandas as pd\n",
    "\n",
    "Job=pd.DataFrame({})\n",
    "Job['Job Title']=job_title[0:10]\n",
    "Job['Job Location']=job_location[0:10]\n",
    "Job['Company Name']=company_name[0:10]\n",
    "Job['Experience Required']=experience_required[0:10]\n",
    "Job"
   ]
  },
  {
   "cell_type": "code",
   "execution_count": null,
   "metadata": {},
   "outputs": [],
   "source": []
  },
  {
   "cell_type": "markdown",
   "metadata": {},
   "source": [
    "# Question 2"
   ]
  },
  {
   "cell_type": "code",
   "execution_count": 3,
   "metadata": {},
   "outputs": [],
   "source": [
    "driver.get('https://www.naukri.com/')"
   ]
  },
  {
   "cell_type": "code",
   "execution_count": 4,
   "metadata": {},
   "outputs": [],
   "source": [
    "#Adding the profile and location\n",
    "search_job=driver.find_element_by_id('qsb-keyword-sugg')\n",
    "search_job.send_keys(\"Data Scientist\")\n",
    "search_loc=driver.find_element_by_id('qsb-location-sugg')\n",
    "search_loc.send_keys(\"Bangalore\")\n",
    "search_btn=driver.find_element_by_xpath(\"//div[@class='search-btn']/button\")\n",
    "search_btn.click()"
   ]
  },
  {
   "cell_type": "code",
   "execution_count": 5,
   "metadata": {},
   "outputs": [
    {
     "data": {
      "text/plain": [
       "[<selenium.webdriver.remote.webelement.WebElement (session=\"e6f58acbe240ac926386e284165e723b\", element=\"c614d038-2cf6-43ae-9323-147bcc930edc\")>,\n",
       " <selenium.webdriver.remote.webelement.WebElement (session=\"e6f58acbe240ac926386e284165e723b\", element=\"1eb3ac6a-1937-42dc-ba56-2ae79b072022\")>,\n",
       " <selenium.webdriver.remote.webelement.WebElement (session=\"e6f58acbe240ac926386e284165e723b\", element=\"e82890a0-e0c7-47ad-8a23-3fbcab678818\")>]"
      ]
     },
     "execution_count": 5,
     "metadata": {},
     "output_type": "execute_result"
    }
   ],
   "source": [
    "#scraping title\n",
    "url='https://www.naukri.com/data-scientist-jobs-in-bangalore?k=data%20scientist&l=bangalore'\n",
    "driver.get(url)\n",
    "\n",
    "title=driver.find_elements_by_xpath(\"//a[@class='title fw500 ellipsis']\")\n",
    "title[:3]"
   ]
  },
  {
   "cell_type": "code",
   "execution_count": 6,
   "metadata": {},
   "outputs": [
    {
     "data": {
      "text/plain": [
       "['Junior Data Scientist',\n",
       " 'Data Scientist',\n",
       " 'Opportunity For Data Scientist Internship - Bengaluru']"
      ]
     },
     "execution_count": 6,
     "metadata": {},
     "output_type": "execute_result"
    }
   ],
   "source": [
    "job_title=[]\n",
    "\n",
    "for i in title:\n",
    "    job_title.append(i.text)\n",
    "job_title[:3]"
   ]
  },
  {
   "cell_type": "code",
   "execution_count": 7,
   "metadata": {},
   "outputs": [
    {
     "data": {
      "text/plain": [
       "['Bangalore/Bengaluru', 'Bangalore/Bengaluru', 'Bangalore/Bengaluru']"
      ]
     },
     "execution_count": 7,
     "metadata": {},
     "output_type": "execute_result"
    }
   ],
   "source": [
    "#scraping location\n",
    "loc=driver.find_elements_by_xpath(\"//li[@class='fleft grey-text br2 placeHolderLi location']/span\")\n",
    "job_location=[]\n",
    "\n",
    "for i in loc:\n",
    "    job_location.append(i.text)\n",
    "job_location[:3]"
   ]
  },
  {
   "cell_type": "code",
   "execution_count": 8,
   "metadata": {},
   "outputs": [
    {
     "data": {
      "text/plain": [
       "['Signify', 'CronJ IT Technologies Private Limited', 'Corner Stone Solutions']"
      ]
     },
     "execution_count": 8,
     "metadata": {},
     "output_type": "execute_result"
    }
   ],
   "source": [
    "#scraping company name\n",
    "company=driver.find_elements_by_xpath(\"//a[@class='subTitle ellipsis fleft']\")\n",
    "company_name=[]\n",
    "\n",
    "for i in company:\n",
    "    company_name.append(i.text)\n",
    "company_name[:3]"
   ]
  },
  {
   "cell_type": "code",
   "execution_count": 9,
   "metadata": {},
   "outputs": [
    {
     "data": {
      "text/plain": [
       "['We re on the lookout for forwardthinking innovators with a passion for sustainability. If you match this description, get in touch! We re looking for hiring Junior Data Scientists to work on machine learning, data mining, and statistical modeling for providing predictive and prescriptive enterprise analytics. Successful candidates will be expected to learn and investigate state of the art techniques in advanced machine learning and statistical modeling, and design, develop, and deploy state-of-art, scalable systems for innovative analytics applications across various functional areas (e.g. Finance, Sales, Marketing, Supply Chain, etc.). Applicants will be expected to work with a diverse set of data sources, such as time series data, graph data, semi-structured and unstructured data, and build statistical/machine-learning models in support of on-demand, real-time analytic services. The applicant should also have skills in explaining the analytic models and outcomes to business stakeholders. You ll be part of the Signify s Enterprise Information Management - Advanced Analytics team, based in Bangalore What you ll do Learn, research, design and prototype robust and scalable models based on machine learning, data mining, and statistical modeling to answer key business problems Build tools and support structures needed to analyze data, perform elements of data cleaning, feature selection and feature engineering and deliver projects in conjunction with best practices Work with development teams business groups to ensure models can be implemented as part of a delivered solution and can be replicated across multiple markets / countries Present findings to stakeholders to drive improvements and solutions from concept through to deliveryKeep abreast of the latest developments in the field by continuous learning and proactively champion promising new methods relevant to the problems at hand What you ll need Masters / B.Tech in computer science, computer engineering with 0-1 years of demonstrated experience in the Advanced Analytics / Machine Learning field Demonstrated analytics projects as part of the course curriculum Knowledge of fundamentals of machine learning, data mining and statistical modeling, and curriculum project experience applying these methods to real world problems Strong skills in software prototyping and engineering with exposure in applicable programming and analytics languages (Python, R, SQL). Ability and inclination to work in multi-disciplinary environments, and desire to see ideas realize in practice']"
      ]
     },
     "execution_count": 9,
     "metadata": {},
     "output_type": "execute_result"
    }
   ],
   "source": [
    "#scraping description\n",
    "url='https://www.naukri.com/job-listings-junior-data-scientist-signify-bangalore-bengaluru-0-to-1-years-080421500675?src=jobsearchDesk&sid=16179010106614818&xp=1&px=1'\n",
    "driver.get(url)\n",
    "\n",
    "description=[]\n",
    "desc=driver.find_elements_by_xpath(\"//section[@class='job-desc']//div[@class='dang-inner-html']\")\n",
    "desc\n",
    "for i in desc:\n",
    "    description.append(i.text.replace('\\n',' '))\n",
    "description"
   ]
  },
  {
   "cell_type": "code",
   "execution_count": 10,
   "metadata": {},
   "outputs": [],
   "source": [
    "url=['https://www.naukri.com/job-listings-data-scientist-cronj-it-technologies-private-limited-bangalore-bengaluru-0-to-1-years-310321002339?src=jobsearchDesk&sid=16179028247986411&xp=2&px=1',\n",
    "     'https://www.naukri.com/job-listings-opportunity-for-data-scientist-internship-bengaluru-corner-stone-solutions-bangalore-bengaluru-0-to-1-years-240620007489?src=jobsearchDesk&sid=16179028247986411&xp=3&px=1',\n",
    "     'https://www.naukri.com/job-listings-data-scientist-machine-learning-augmatrixgo-bangalore-bengaluru-2-to-5-years-140121905423?src=jobsearchDesk&sid=16179028247986411&xp=4&px=1',\n",
    "     'https://www.naukri.com/job-listings-data-scientist-data-analyst-data-science-inspiration-manpower-consultancy-pvt-ltd-navi-mumbai-bangalore-bengaluru-6-to-11-years-250321005167?src=jobsearchDesk&sid=16179028247986411&xp=5&px=1',\n",
    "    'https://www.naukri.com/job-listings-gamma-lead-data-scientist-boston-consulting-group-mumbai-new-delhi-chennai-bangalore-bengaluru-7-to-12-years-070421500217?src=jobsearchDesk&sid=16179028247986411&xp=7&px=1',\n",
    "    'https://www.naukri.com/job-listings-dbcg-ind-gamma-senior-data-scientist-boston-consulting-group-mumbai-new-delhi-chennai-bangalore-bengaluru-6-to-10-years-020421500121?src=jobsearchDesk&sid=16179028247986411&xp=8&px=1',\n",
    "    'https://www.naukri.com/job-listings-data-scientist-senior-data-scientist-ganit-business-solutions-private-limited-hyderabad-secunderabad-pune-chennai-bangalore-bengaluru-mumbai-all-areas-4-to-8-years-290321001979?src=jobsearchDesk&sid=16179028247986411&xp=9&px=1',\n",
    "    'https://www.naukri.com/job-listings-senior-data-scientist-ces-it-ltd-cmmi-level-5-ces-ltd-kolkata-mumbai-hyderabad-secunderabad-pune-chennai-bangalore-bengaluru-delhi-ncr-2-to-7-years-151220006902?src=jobsearchDesk&sid=16179028247986411&xp=10&px=1']\n",
    "for u in url:\n",
    "    driver.get(u)\n",
    "    desc=driver.find_elements_by_xpath(\"//section[@class='job-desc']//div[@class='dang-inner-html']\")\n",
    "    for i in desc:\n",
    "        description.append(i.text.replace('\\n',' '))"
   ]
  },
  {
   "cell_type": "code",
   "execution_count": 11,
   "metadata": {},
   "outputs": [
    {
     "data": {
      "text/plain": [
       "9"
      ]
     },
     "execution_count": 11,
     "metadata": {},
     "output_type": "execute_result"
    }
   ],
   "source": [
    "len(description)"
   ]
  },
  {
   "cell_type": "code",
   "execution_count": 13,
   "metadata": {},
   "outputs": [],
   "source": [
    "#this particular url had a different xpath\n",
    "url='https://www.naukri.com/job-listings-data-scientist-ibm-garage-ibm-india-pvt-limited-noida-hyderabad-secunderabad-bangalore-bengaluru-5-to-8-years-060421902058?src=jobsearchDesk&sid=1617906220949149&xp=6&px=1'\n",
    "driver.get(url)\n",
    "desc=driver.find_elements_by_xpath(\"//section[@class='JD av_textblock_section']//div[@class='nConfig_textblock ']\")\n",
    "for i in desc:\n",
    "    description.insert(5,i.text.replace('\\n',' ')) #inserting the description at the 5th index"
   ]
  },
  {
   "cell_type": "code",
   "execution_count": 14,
   "metadata": {},
   "outputs": [
    {
     "data": {
      "text/html": [
       "<div>\n",
       "<style scoped>\n",
       "    .dataframe tbody tr th:only-of-type {\n",
       "        vertical-align: middle;\n",
       "    }\n",
       "\n",
       "    .dataframe tbody tr th {\n",
       "        vertical-align: top;\n",
       "    }\n",
       "\n",
       "    .dataframe thead th {\n",
       "        text-align: right;\n",
       "    }\n",
       "</style>\n",
       "<table border=\"1\" class=\"dataframe\">\n",
       "  <thead>\n",
       "    <tr style=\"text-align: right;\">\n",
       "      <th></th>\n",
       "      <th>Job Title</th>\n",
       "      <th>Job Location</th>\n",
       "      <th>Company Name</th>\n",
       "      <th>Job Description</th>\n",
       "    </tr>\n",
       "  </thead>\n",
       "  <tbody>\n",
       "    <tr>\n",
       "      <th>0</th>\n",
       "      <td>Junior Data Scientist</td>\n",
       "      <td>Bangalore/Bengaluru</td>\n",
       "      <td>Signify</td>\n",
       "      <td>We re on the lookout for forwardthinking innov...</td>\n",
       "    </tr>\n",
       "    <tr>\n",
       "      <th>1</th>\n",
       "      <td>Data Scientist</td>\n",
       "      <td>Bangalore/Bengaluru</td>\n",
       "      <td>CronJ IT Technologies Private Limited</td>\n",
       "      <td>Responsibilities and Duties Create innovative ...</td>\n",
       "    </tr>\n",
       "    <tr>\n",
       "      <th>2</th>\n",
       "      <td>Opportunity For Data Scientist Internship - Be...</td>\n",
       "      <td>Bangalore/Bengaluru</td>\n",
       "      <td>Corner Stone Solutions</td>\n",
       "      <td>Location - Bangalore / Bengaluru Duration- 6 M...</td>\n",
       "    </tr>\n",
       "    <tr>\n",
       "      <th>3</th>\n",
       "      <td>Data Scientist - Machine Learning</td>\n",
       "      <td>Bangalore/Bengaluru</td>\n",
       "      <td>AugmatrixGo</td>\n",
       "      <td>Roles and Responsibilities   - Selecting featu...</td>\n",
       "    </tr>\n",
       "    <tr>\n",
       "      <th>4</th>\n",
       "      <td>Data Scientist || Data Analyst || Data science</td>\n",
       "      <td>Navi Mumbai, Bangalore/Bengaluru</td>\n",
       "      <td>Inspiration Manpower Consultancy Pvt. Ltd.</td>\n",
       "      <td>Job description Job Summary and Key Responsibi...</td>\n",
       "    </tr>\n",
       "    <tr>\n",
       "      <th>5</th>\n",
       "      <td>Data Scientist - IBM Garage</td>\n",
       "      <td>Noida, Hyderabad/Secunderabad, Bangalore/Benga...</td>\n",
       "      <td>IBM India Pvt. Limited</td>\n",
       "      <td>Job Description Introduction IBM is continuous...</td>\n",
       "    </tr>\n",
       "    <tr>\n",
       "      <th>6</th>\n",
       "      <td>GAMMA Lead Data Scientist</td>\n",
       "      <td>Mumbai, New Delhi, Chennai, Bangalore/Bengaluru</td>\n",
       "      <td>Boston Consulting Group</td>\n",
       "      <td>Practice Area Profile BCG GAMMA combines inn...</td>\n",
       "    </tr>\n",
       "    <tr>\n",
       "      <th>7</th>\n",
       "      <td>DBCG IND - GAMMA Senior Data Scientist</td>\n",
       "      <td>Mumbai, New Delhi, Chennai, Bangalore/Bengaluru</td>\n",
       "      <td>Boston Consulting Group</td>\n",
       "      <td>What Youll Do  We re looking for a passion...</td>\n",
       "    </tr>\n",
       "    <tr>\n",
       "      <th>8</th>\n",
       "      <td>Data Scientist/Senior Data Scientist</td>\n",
       "      <td>Hyderabad/Secunderabad, Pune, Chennai, Bangalo...</td>\n",
       "      <td>GANIT BUSINESS SOLUTIONS PRIVATE LIMITED</td>\n",
       "      <td>About Ganit Inc  Founded by senior industry ex...</td>\n",
       "    </tr>\n",
       "    <tr>\n",
       "      <th>9</th>\n",
       "      <td>Senior Data Scientist | CES IT LTD | CMMI Level 5</td>\n",
       "      <td>Kolkata, Mumbai, Hyderabad/Secunderabad, Pune,...</td>\n",
       "      <td>CES Ltd.</td>\n",
       "      <td>Roles and Responsibilities  Must have strong P...</td>\n",
       "    </tr>\n",
       "  </tbody>\n",
       "</table>\n",
       "</div>"
      ],
      "text/plain": [
       "                                           Job Title  \\\n",
       "0                              Junior Data Scientist   \n",
       "1                                     Data Scientist   \n",
       "2  Opportunity For Data Scientist Internship - Be...   \n",
       "3                  Data Scientist - Machine Learning   \n",
       "4     Data Scientist || Data Analyst || Data science   \n",
       "5                        Data Scientist - IBM Garage   \n",
       "6                          GAMMA Lead Data Scientist   \n",
       "7             DBCG IND - GAMMA Senior Data Scientist   \n",
       "8               Data Scientist/Senior Data Scientist   \n",
       "9  Senior Data Scientist | CES IT LTD | CMMI Level 5   \n",
       "\n",
       "                                        Job Location  \\\n",
       "0                                Bangalore/Bengaluru   \n",
       "1                                Bangalore/Bengaluru   \n",
       "2                                Bangalore/Bengaluru   \n",
       "3                                Bangalore/Bengaluru   \n",
       "4                   Navi Mumbai, Bangalore/Bengaluru   \n",
       "5  Noida, Hyderabad/Secunderabad, Bangalore/Benga...   \n",
       "6    Mumbai, New Delhi, Chennai, Bangalore/Bengaluru   \n",
       "7    Mumbai, New Delhi, Chennai, Bangalore/Bengaluru   \n",
       "8  Hyderabad/Secunderabad, Pune, Chennai, Bangalo...   \n",
       "9  Kolkata, Mumbai, Hyderabad/Secunderabad, Pune,...   \n",
       "\n",
       "                                 Company Name  \\\n",
       "0                                     Signify   \n",
       "1       CronJ IT Technologies Private Limited   \n",
       "2                      Corner Stone Solutions   \n",
       "3                                 AugmatrixGo   \n",
       "4  Inspiration Manpower Consultancy Pvt. Ltd.   \n",
       "5                      IBM India Pvt. Limited   \n",
       "6                     Boston Consulting Group   \n",
       "7                     Boston Consulting Group   \n",
       "8    GANIT BUSINESS SOLUTIONS PRIVATE LIMITED   \n",
       "9                                    CES Ltd.   \n",
       "\n",
       "                                     Job Description  \n",
       "0  We re on the lookout for forwardthinking innov...  \n",
       "1  Responsibilities and Duties Create innovative ...  \n",
       "2  Location - Bangalore / Bengaluru Duration- 6 M...  \n",
       "3  Roles and Responsibilities   - Selecting featu...  \n",
       "4  Job description Job Summary and Key Responsibi...  \n",
       "5  Job Description Introduction IBM is continuous...  \n",
       "6    Practice Area Profile BCG GAMMA combines inn...  \n",
       "7      What Youll Do  We re looking for a passion...  \n",
       "8  About Ganit Inc  Founded by senior industry ex...  \n",
       "9  Roles and Responsibilities  Must have strong P...  "
      ]
     },
     "execution_count": 14,
     "metadata": {},
     "output_type": "execute_result"
    }
   ],
   "source": [
    "import pandas as pd\n",
    "\n",
    "Job=pd.DataFrame({})\n",
    "Job['Job Title']=job_title[0:10]\n",
    "Job['Job Location']=job_location[0:10]\n",
    "Job['Company Name']=company_name[0:10]\n",
    "Job['Job Description']=description\n",
    "Job"
   ]
  },
  {
   "cell_type": "code",
   "execution_count": null,
   "metadata": {},
   "outputs": [],
   "source": []
  },
  {
   "cell_type": "markdown",
   "metadata": {},
   "source": [
    "## Question 3"
   ]
  },
  {
   "cell_type": "code",
   "execution_count": 3,
   "metadata": {},
   "outputs": [],
   "source": [
    "driver.get('https://www.naukri.com/')"
   ]
  },
  {
   "cell_type": "code",
   "execution_count": 4,
   "metadata": {},
   "outputs": [],
   "source": [
    "#adding job profile\n",
    "search_job=driver.find_element_by_id('qsb-keyword-sugg')\n",
    "search_job.send_keys(\"Data Scientist\")\n",
    "search_btn=driver.find_element_by_xpath(\"//div[@class='search-btn']/button\")\n",
    "search_btn.click()"
   ]
  },
  {
   "cell_type": "code",
   "execution_count": 6,
   "metadata": {},
   "outputs": [],
   "source": [
    "#appyling location filter\n",
    "loc_filter=driver.find_element_by_xpath(\"//div[@class='mt-8 chckBoxCont']//label[@for='chk-Delhi / NCR-cityTypeGid-']//i[@class='fleft naukicon naukicon-checkbox']\")\n",
    "loc_filter.click()"
   ]
  },
  {
   "cell_type": "code",
   "execution_count": 7,
   "metadata": {},
   "outputs": [],
   "source": [
    "#applying salary filter\n",
    "salary_filter=driver.find_element_by_xpath(\"//div[@class='mt-8 chckBoxCont']//label[@for='chk-3-6 Lakhs-ctcFilter-']//i[@class='fleft naukicon naukicon-checkbox']\")\n",
    "salary_filter.click()"
   ]
  },
  {
   "cell_type": "code",
   "execution_count": 8,
   "metadata": {},
   "outputs": [
    {
     "data": {
      "text/plain": [
       "['Data Scientist - IBM Garage',\n",
       " 'Data Scientist/Data Analyst - Python/Machine Learning',\n",
       " 'Females Required- Data Scientist- Noida']"
      ]
     },
     "execution_count": 8,
     "metadata": {},
     "output_type": "execute_result"
    }
   ],
   "source": [
    "#scraping title\n",
    "title=driver.find_elements_by_xpath(\"//a[@class='title fw500 ellipsis']\")\n",
    "job_title=[]\n",
    "\n",
    "for i in title:\n",
    "    job_title.append(i.text)\n",
    "job_title[:3]"
   ]
  },
  {
   "cell_type": "code",
   "execution_count": 9,
   "metadata": {},
   "outputs": [
    {
     "data": {
      "text/plain": [
       "['Noida, Hyderabad/Secunderabad, Bangalore/Bengaluru',\n",
       " 'Mumbai, Ghaziabad',\n",
       " 'Noida, Gurgaon/Gurugram, Delhi / NCR']"
      ]
     },
     "execution_count": 9,
     "metadata": {},
     "output_type": "execute_result"
    }
   ],
   "source": [
    "#scraping location\n",
    "loc=driver.find_elements_by_xpath(\"//li[@class='fleft grey-text br2 placeHolderLi location']/span\")\n",
    "job_location=[]\n",
    "\n",
    "for i in loc:\n",
    "    job_location.append(i.text)\n",
    "job_location[:3]"
   ]
  },
  {
   "cell_type": "code",
   "execution_count": 10,
   "metadata": {},
   "outputs": [
    {
     "data": {
      "text/plain": [
       "['IBM India Pvt. Limited', 'Change leaders', 'Randstad']"
      ]
     },
     "execution_count": 10,
     "metadata": {},
     "output_type": "execute_result"
    }
   ],
   "source": [
    "#scraping company name\n",
    "company=driver.find_elements_by_xpath(\"//a[@class='subTitle ellipsis fleft']\")\n",
    "company_name=[]\n",
    "\n",
    "for i in company:\n",
    "    company_name.append(i.text)\n",
    "company_name[:3]"
   ]
  },
  {
   "cell_type": "code",
   "execution_count": 11,
   "metadata": {},
   "outputs": [
    {
     "data": {
      "text/plain": [
       "['5-8 Yrs', '5-10 Yrs', '3-7 Yrs']"
      ]
     },
     "execution_count": 11,
     "metadata": {},
     "output_type": "execute_result"
    }
   ],
   "source": [
    "#scraping experience\n",
    "exp=driver.find_elements_by_xpath(\"//li[@class='fleft grey-text br2 placeHolderLi experience']/span\")\n",
    "experience_required=[]\n",
    "\n",
    "for i in exp:\n",
    "    experience_required.append(i.text)\n",
    "experience_required[:3]"
   ]
  },
  {
   "cell_type": "code",
   "execution_count": 12,
   "metadata": {},
   "outputs": [
    {
     "data": {
      "text/html": [
       "<div>\n",
       "<style scoped>\n",
       "    .dataframe tbody tr th:only-of-type {\n",
       "        vertical-align: middle;\n",
       "    }\n",
       "\n",
       "    .dataframe tbody tr th {\n",
       "        vertical-align: top;\n",
       "    }\n",
       "\n",
       "    .dataframe thead th {\n",
       "        text-align: right;\n",
       "    }\n",
       "</style>\n",
       "<table border=\"1\" class=\"dataframe\">\n",
       "  <thead>\n",
       "    <tr style=\"text-align: right;\">\n",
       "      <th></th>\n",
       "      <th>Job Title</th>\n",
       "      <th>Job Location</th>\n",
       "      <th>Company Name</th>\n",
       "      <th>Experience Required</th>\n",
       "    </tr>\n",
       "  </thead>\n",
       "  <tbody>\n",
       "    <tr>\n",
       "      <th>0</th>\n",
       "      <td>Data Scientist - IBM Garage</td>\n",
       "      <td>Noida, Hyderabad/Secunderabad, Bangalore/Benga...</td>\n",
       "      <td>IBM India Pvt. Limited</td>\n",
       "      <td>5-8 Yrs</td>\n",
       "    </tr>\n",
       "    <tr>\n",
       "      <th>1</th>\n",
       "      <td>Data Scientist/Data Analyst - Python/Machine L...</td>\n",
       "      <td>Mumbai, Ghaziabad</td>\n",
       "      <td>Change leaders</td>\n",
       "      <td>5-10 Yrs</td>\n",
       "    </tr>\n",
       "    <tr>\n",
       "      <th>2</th>\n",
       "      <td>Females Required- Data Scientist- Noida</td>\n",
       "      <td>Noida, Gurgaon/Gurugram, Delhi / NCR</td>\n",
       "      <td>Randstad</td>\n",
       "      <td>3-7 Yrs</td>\n",
       "    </tr>\n",
       "    <tr>\n",
       "      <th>3</th>\n",
       "      <td>Data Scientist - Python &amp; Machine Learning</td>\n",
       "      <td>Hyderabad/Secunderabad, Pune, Bangalore/Bengal...</td>\n",
       "      <td>FUTURES AND CAREERS</td>\n",
       "      <td>2-7 Yrs</td>\n",
       "    </tr>\n",
       "    <tr>\n",
       "      <th>4</th>\n",
       "      <td>Data Scientist - Python &amp; Machine Learning</td>\n",
       "      <td>Hyderabad/Secunderabad, Pune, Chennai, Bangalo...</td>\n",
       "      <td>FUTURES AND CAREERS</td>\n",
       "      <td>2-7 Yrs</td>\n",
       "    </tr>\n",
       "    <tr>\n",
       "      <th>5</th>\n",
       "      <td>Data Scientist - Hadoop/BigQuery</td>\n",
       "      <td>Noida</td>\n",
       "      <td>Jubna</td>\n",
       "      <td>3-6 Yrs</td>\n",
       "    </tr>\n",
       "    <tr>\n",
       "      <th>6</th>\n",
       "      <td>Data Scientist - Python / Machine Learning / T...</td>\n",
       "      <td>Mumbai, Hyderabad/Secunderabad, Bangalore/Beng...</td>\n",
       "      <td>FUTURES AND CAREERS</td>\n",
       "      <td>3-8 Yrs</td>\n",
       "    </tr>\n",
       "    <tr>\n",
       "      <th>7</th>\n",
       "      <td>Data Scientist - Python &amp; Machine Learning</td>\n",
       "      <td>Hyderabad/Secunderabad, Bangalore/Bengaluru, D...</td>\n",
       "      <td>FUTURES AND CAREERS</td>\n",
       "      <td>2-7 Yrs</td>\n",
       "    </tr>\n",
       "    <tr>\n",
       "      <th>8</th>\n",
       "      <td>Required- Data Scientist (NLP)-Axis Bank - 6 m...</td>\n",
       "      <td>Kolkata, New Delhi, Hyderabad/Secunderabad, Pu...</td>\n",
       "      <td>Axis Bank Limited</td>\n",
       "      <td>4-9 Yrs</td>\n",
       "    </tr>\n",
       "    <tr>\n",
       "      <th>9</th>\n",
       "      <td>Data Scientist - Python / Machine Learning / T...</td>\n",
       "      <td>Hyderabad/Secunderabad, Bangalore/Bengaluru, D...</td>\n",
       "      <td>FUTURES AND CAREERS</td>\n",
       "      <td>3-8 Yrs</td>\n",
       "    </tr>\n",
       "  </tbody>\n",
       "</table>\n",
       "</div>"
      ],
      "text/plain": [
       "                                           Job Title  \\\n",
       "0                        Data Scientist - IBM Garage   \n",
       "1  Data Scientist/Data Analyst - Python/Machine L...   \n",
       "2            Females Required- Data Scientist- Noida   \n",
       "3         Data Scientist - Python & Machine Learning   \n",
       "4         Data Scientist - Python & Machine Learning   \n",
       "5                   Data Scientist - Hadoop/BigQuery   \n",
       "6  Data Scientist - Python / Machine Learning / T...   \n",
       "7         Data Scientist - Python & Machine Learning   \n",
       "8  Required- Data Scientist (NLP)-Axis Bank - 6 m...   \n",
       "9  Data Scientist - Python / Machine Learning / T...   \n",
       "\n",
       "                                        Job Location            Company Name  \\\n",
       "0  Noida, Hyderabad/Secunderabad, Bangalore/Benga...  IBM India Pvt. Limited   \n",
       "1                                  Mumbai, Ghaziabad          Change leaders   \n",
       "2               Noida, Gurgaon/Gurugram, Delhi / NCR                Randstad   \n",
       "3  Hyderabad/Secunderabad, Pune, Bangalore/Bengal...     FUTURES AND CAREERS   \n",
       "4  Hyderabad/Secunderabad, Pune, Chennai, Bangalo...     FUTURES AND CAREERS   \n",
       "5                                              Noida                   Jubna   \n",
       "6  Mumbai, Hyderabad/Secunderabad, Bangalore/Beng...     FUTURES AND CAREERS   \n",
       "7  Hyderabad/Secunderabad, Bangalore/Bengaluru, D...     FUTURES AND CAREERS   \n",
       "8  Kolkata, New Delhi, Hyderabad/Secunderabad, Pu...       Axis Bank Limited   \n",
       "9  Hyderabad/Secunderabad, Bangalore/Bengaluru, D...     FUTURES AND CAREERS   \n",
       "\n",
       "  Experience Required  \n",
       "0             5-8 Yrs  \n",
       "1            5-10 Yrs  \n",
       "2             3-7 Yrs  \n",
       "3             2-7 Yrs  \n",
       "4             2-7 Yrs  \n",
       "5             3-6 Yrs  \n",
       "6             3-8 Yrs  \n",
       "7             2-7 Yrs  \n",
       "8             4-9 Yrs  \n",
       "9             3-8 Yrs  "
      ]
     },
     "execution_count": 12,
     "metadata": {},
     "output_type": "execute_result"
    }
   ],
   "source": [
    "Job=pd.DataFrame({})\n",
    "Job['Job Title']=job_title[0:10]\n",
    "Job['Job Location']=job_location[0:10]\n",
    "Job['Company Name']=company_name[0:10]\n",
    "Job['Experience Required']=experience_required[0:10]\n",
    "Job"
   ]
  },
  {
   "cell_type": "code",
   "execution_count": null,
   "metadata": {},
   "outputs": [],
   "source": []
  },
  {
   "cell_type": "markdown",
   "metadata": {},
   "source": [
    "## Question 4"
   ]
  },
  {
   "cell_type": "code",
   "execution_count": 3,
   "metadata": {},
   "outputs": [],
   "source": [
    "driver.get('https://www.glassdoor.co.in/index.htm')"
   ]
  },
  {
   "cell_type": "code",
   "execution_count": 4,
   "metadata": {},
   "outputs": [],
   "source": [
    "#adding profile and location\n",
    "search_job=driver.find_element_by_id('sc.keyword')\n",
    "search_job.send_keys(\"Data Scientist\")\n",
    "search_loc=driver.find_element_by_id('sc.location')\n",
    "search_loc.clear()\n",
    "search_loc.send_keys(\"Noida\")\n",
    "search_btn=driver.find_element_by_xpath(\"//button[@class='gd-ui-button ml-std col-auto SearchStyles__newSearchButton css-iixdfr']\")\n",
    "search_btn.click()"
   ]
  },
  {
   "cell_type": "code",
   "execution_count": 9,
   "metadata": {},
   "outputs": [
    {
     "data": {
      "text/plain": [
       "['BlackRock', 'BlackRock', 'Knoldus Inc', 'Adobe', 'abc consultants']"
      ]
     },
     "execution_count": 9,
     "metadata": {},
     "output_type": "execute_result"
    }
   ],
   "source": [
    "#scraping company name\n",
    "company=driver.find_elements_by_xpath(\"//a[@class=' css-l2wjgv e1n63ojh0 jobLink']\")\n",
    "company_name=[]\n",
    "\n",
    "for i in company:\n",
    "    company_name.append(i.text)\n",
    "company_name[:5]"
   ]
  },
  {
   "cell_type": "code",
   "execution_count": 6,
   "metadata": {},
   "outputs": [
    {
     "data": {
      "text/plain": [
       "['20d', '20d', '24h']"
      ]
     },
     "execution_count": 6,
     "metadata": {},
     "output_type": "execute_result"
    }
   ],
   "source": [
    "#scraping number of days when the job was posted\n",
    "day=driver.find_elements_by_xpath(\"//div[@class='d-flex justify-content-between css-1qtdns2']//div[@class='d-flex align-items-end pl-std css-mi55ob']\")\n",
    "days=[]\n",
    "\n",
    "for i in day:\n",
    "    days.append(i.text)\n",
    "days[:3]"
   ]
  },
  {
   "cell_type": "code",
   "execution_count": 7,
   "metadata": {},
   "outputs": [
    {
     "data": {
      "text/plain": [
       "['4.0', '4.0', '4.3']"
      ]
     },
     "execution_count": 7,
     "metadata": {},
     "output_type": "execute_result"
    }
   ],
   "source": [
    "#scraping rating\n",
    "rating=[]\n",
    "rate=driver.find_elements_by_xpath(\"//div[@class='d-flex flex-column css-x75kgh e1rrn5ka3']//span[@class='css-19pjha7 e1cjmv6j1']\")\n",
    "for i in rate:\n",
    "    rating.append(i.text)\n",
    "rating[:3]"
   ]
  },
  {
   "cell_type": "code",
   "execution_count": 10,
   "metadata": {},
   "outputs": [
    {
     "data": {
      "text/html": [
       "<div>\n",
       "<style scoped>\n",
       "    .dataframe tbody tr th:only-of-type {\n",
       "        vertical-align: middle;\n",
       "    }\n",
       "\n",
       "    .dataframe tbody tr th {\n",
       "        vertical-align: top;\n",
       "    }\n",
       "\n",
       "    .dataframe thead th {\n",
       "        text-align: right;\n",
       "    }\n",
       "</style>\n",
       "<table border=\"1\" class=\"dataframe\">\n",
       "  <thead>\n",
       "    <tr style=\"text-align: right;\">\n",
       "      <th></th>\n",
       "      <th>Company Name</th>\n",
       "      <th>Number of days job was posted</th>\n",
       "      <th>Rating</th>\n",
       "    </tr>\n",
       "  </thead>\n",
       "  <tbody>\n",
       "    <tr>\n",
       "      <th>0</th>\n",
       "      <td>BlackRock</td>\n",
       "      <td>20d</td>\n",
       "      <td>4.0</td>\n",
       "    </tr>\n",
       "    <tr>\n",
       "      <th>1</th>\n",
       "      <td>BlackRock</td>\n",
       "      <td>20d</td>\n",
       "      <td>4.0</td>\n",
       "    </tr>\n",
       "    <tr>\n",
       "      <th>2</th>\n",
       "      <td>Knoldus Inc</td>\n",
       "      <td>24h</td>\n",
       "      <td>4.3</td>\n",
       "    </tr>\n",
       "    <tr>\n",
       "      <th>3</th>\n",
       "      <td>Adobe</td>\n",
       "      <td>3d</td>\n",
       "      <td>4.4</td>\n",
       "    </tr>\n",
       "    <tr>\n",
       "      <th>4</th>\n",
       "      <td>abc consultants</td>\n",
       "      <td>2d</td>\n",
       "      <td>4.2</td>\n",
       "    </tr>\n",
       "    <tr>\n",
       "      <th>5</th>\n",
       "      <td>Gauge Data Solutions</td>\n",
       "      <td>1d</td>\n",
       "      <td>3.1</td>\n",
       "    </tr>\n",
       "    <tr>\n",
       "      <th>6</th>\n",
       "      <td>Biz2Credit Inc</td>\n",
       "      <td>10d</td>\n",
       "      <td>3.8</td>\n",
       "    </tr>\n",
       "    <tr>\n",
       "      <th>7</th>\n",
       "      <td>Priority Vendor</td>\n",
       "      <td>1d</td>\n",
       "      <td>3.7</td>\n",
       "    </tr>\n",
       "    <tr>\n",
       "      <th>8</th>\n",
       "      <td>Techlive</td>\n",
       "      <td>7d</td>\n",
       "      <td>5.0</td>\n",
       "    </tr>\n",
       "    <tr>\n",
       "      <th>9</th>\n",
       "      <td>Healtheoz India</td>\n",
       "      <td>1d</td>\n",
       "      <td>4.8</td>\n",
       "    </tr>\n",
       "  </tbody>\n",
       "</table>\n",
       "</div>"
      ],
      "text/plain": [
       "           Company Name Number of days job was posted Rating\n",
       "0             BlackRock                           20d    4.0\n",
       "1             BlackRock                           20d    4.0\n",
       "2           Knoldus Inc                           24h    4.3\n",
       "3                 Adobe                            3d    4.4\n",
       "4       abc consultants                            2d    4.2\n",
       "5  Gauge Data Solutions                            1d    3.1\n",
       "6        Biz2Credit Inc                           10d    3.8\n",
       "7       Priority Vendor                            1d    3.7\n",
       "8              Techlive                            7d    5.0\n",
       "9       Healtheoz India                            1d    4.8"
      ]
     },
     "execution_count": 10,
     "metadata": {},
     "output_type": "execute_result"
    }
   ],
   "source": [
    "Job=pd.DataFrame({})\n",
    "Job['Company Name']=company_name[0:10]\n",
    "Job['Number of days job was posted']=days[0:10]\n",
    "Job['Rating']=rating[0:10]\n",
    "Job"
   ]
  },
  {
   "cell_type": "code",
   "execution_count": null,
   "metadata": {},
   "outputs": [],
   "source": []
  },
  {
   "cell_type": "markdown",
   "metadata": {},
   "source": [
    "## Question 5"
   ]
  },
  {
   "cell_type": "code",
   "execution_count": 3,
   "metadata": {},
   "outputs": [],
   "source": [
    "driver.get('https://www.glassdoor.co.in/Salaries/index.htm')"
   ]
  },
  {
   "cell_type": "code",
   "execution_count": 4,
   "metadata": {},
   "outputs": [],
   "source": [
    "#adding profile and location to search\n",
    "search_job=driver.find_element_by_id('KeywordSearch')\n",
    "search_job.send_keys(\"Data Scientist\")\n",
    "search_loc=driver.find_element_by_id('LocationSearch')\n",
    "search_loc.clear()\n",
    "search_loc.send_keys(\"Noida\")\n",
    "search_btn=driver.find_element_by_id('HeroSearchButton')\n",
    "search_btn.click()"
   ]
  },
  {
   "cell_type": "code",
   "execution_count": 5,
   "metadata": {},
   "outputs": [
    {
     "data": {
      "text/plain": [
       "[<selenium.webdriver.remote.webelement.WebElement (session=\"1a2efc723b7293c812ddfa43d71c527d\", element=\"cc508244-70e0-4fd4-9ea6-d3a25eabd431\")>,\n",
       " <selenium.webdriver.remote.webelement.WebElement (session=\"1a2efc723b7293c812ddfa43d71c527d\", element=\"2659e48a-48fa-4068-bebe-b82398908e7a\")>,\n",
       " <selenium.webdriver.remote.webelement.WebElement (session=\"1a2efc723b7293c812ddfa43d71c527d\", element=\"151cc756-e279-41a6-bfce-27fdba213353\")>,\n",
       " <selenium.webdriver.remote.webelement.WebElement (session=\"1a2efc723b7293c812ddfa43d71c527d\", element=\"7a05d506-3625-4527-94e8-ac6984208532\")>,\n",
       " <selenium.webdriver.remote.webelement.WebElement (session=\"1a2efc723b7293c812ddfa43d71c527d\", element=\"64c758be-7648-4e56-ba7d-24da1996aebd\")>,\n",
       " <selenium.webdriver.remote.webelement.WebElement (session=\"1a2efc723b7293c812ddfa43d71c527d\", element=\"300f55da-5825-4cdb-aa0b-c7d56e8a25ad\")>,\n",
       " <selenium.webdriver.remote.webelement.WebElement (session=\"1a2efc723b7293c812ddfa43d71c527d\", element=\"1ad93bf7-9c94-4f85-b2fe-57859a3c1960\")>,\n",
       " <selenium.webdriver.remote.webelement.WebElement (session=\"1a2efc723b7293c812ddfa43d71c527d\", element=\"feb5517c-47f2-492f-86e7-9be24be6db6b\")>,\n",
       " <selenium.webdriver.remote.webelement.WebElement (session=\"1a2efc723b7293c812ddfa43d71c527d\", element=\"ceb61d0d-a890-4414-b517-e5dff31e81d8\")>,\n",
       " <selenium.webdriver.remote.webelement.WebElement (session=\"1a2efc723b7293c812ddfa43d71c527d\", element=\"d7dc8595-b3e0-40e0-b10b-6922ca63ff8d\")>,\n",
       " <selenium.webdriver.remote.webelement.WebElement (session=\"1a2efc723b7293c812ddfa43d71c527d\", element=\"9c350121-4878-4d0f-af39-7e44a0a1f659\")>,\n",
       " <selenium.webdriver.remote.webelement.WebElement (session=\"1a2efc723b7293c812ddfa43d71c527d\", element=\"c5dd1299-c0ea-4d4f-bfc9-648e5c099c6d\")>,\n",
       " <selenium.webdriver.remote.webelement.WebElement (session=\"1a2efc723b7293c812ddfa43d71c527d\", element=\"da9b08dd-a1f7-4ac6-bb79-10f5a33e120f\")>,\n",
       " <selenium.webdriver.remote.webelement.WebElement (session=\"1a2efc723b7293c812ddfa43d71c527d\", element=\"c7ad6705-114a-476e-be2b-692086bef6d0\")>,\n",
       " <selenium.webdriver.remote.webelement.WebElement (session=\"1a2efc723b7293c812ddfa43d71c527d\", element=\"c395ca94-a460-4de8-8b5b-41083f92ad23\")>,\n",
       " <selenium.webdriver.remote.webelement.WebElement (session=\"1a2efc723b7293c812ddfa43d71c527d\", element=\"bb0f0eb3-b6bf-4929-b4c2-23f40f83648c\")>,\n",
       " <selenium.webdriver.remote.webelement.WebElement (session=\"1a2efc723b7293c812ddfa43d71c527d\", element=\"64e85a50-561b-4e23-b204-600f5491889a\")>,\n",
       " <selenium.webdriver.remote.webelement.WebElement (session=\"1a2efc723b7293c812ddfa43d71c527d\", element=\"f11caad0-e19d-4df5-912f-bd59c3aba735\")>,\n",
       " <selenium.webdriver.remote.webelement.WebElement (session=\"1a2efc723b7293c812ddfa43d71c527d\", element=\"10a8df9d-eb08-4122-8d63-1c9fcc31aebb\")>,\n",
       " <selenium.webdriver.remote.webelement.WebElement (session=\"1a2efc723b7293c812ddfa43d71c527d\", element=\"e382a27e-4e29-4a94-b30f-a57706c862d1\")>]"
      ]
     },
     "execution_count": 5,
     "metadata": {},
     "output_type": "execute_result"
    }
   ],
   "source": [
    "#scraping company name\n",
    "company=driver.find_elements_by_xpath(\"//p[@class='m-0 ']\")\n",
    "company_name=[]\n",
    "\n",
    "company"
   ]
  },
  {
   "cell_type": "code",
   "execution_count": 6,
   "metadata": {},
   "outputs": [
    {
     "data": {
      "text/plain": [
       "['Tata Consultancy Services',\n",
       " 'Accenture',\n",
       " 'Delhivery',\n",
       " 'IBM',\n",
       " 'Ericsson-Worldwide']"
      ]
     },
     "execution_count": 6,
     "metadata": {},
     "output_type": "execute_result"
    }
   ],
   "source": [
    "for i in company:\n",
    "    company_name.append(i.text)\n",
    "company_name[:5]"
   ]
  },
  {
   "cell_type": "code",
   "execution_count": 7,
   "metadata": {},
   "outputs": [
    {
     "data": {
      "text/plain": [
       "['14 salaries', '14 salaries', '14 salaries', '13 salaries', '12 salaries']"
      ]
     },
     "execution_count": 7,
     "metadata": {},
     "output_type": "execute_result"
    }
   ],
   "source": [
    "#scraping number of salaries\n",
    "no=driver.find_elements_by_xpath(\"//p[@class='css-1uyte9r css-1kuy7z7 m-0 ']\")\n",
    "num=[]\n",
    "for i in no:\n",
    "    num.append(i.text)\n",
    "num[:5]"
   ]
  },
  {
   "cell_type": "code",
   "execution_count": 10,
   "metadata": {},
   "outputs": [
    {
     "data": {
      "text/plain": [
       "['₹ 5,97,967/yr',\n",
       " '₹ 11,12,243/yr',\n",
       " '₹ 12,12,741/yr',\n",
       " '₹ 7,37,972/yr',\n",
       " '₹ 7,15,984/yr']"
      ]
     },
     "execution_count": 10,
     "metadata": {},
     "output_type": "execute_result"
    }
   ],
   "source": [
    "#scraping average salary\n",
    "a=driver.find_elements_by_xpath(\"//div[@class='col-2 d-none d-md-flex flex-row justify-content-end']\")\n",
    "avg=[]\n",
    "for i in a:\n",
    "    avg.append(i.text.replace('\\n',''))\n",
    "avg[:5]"
   ]
  },
  {
   "cell_type": "code",
   "execution_count": 14,
   "metadata": {},
   "outputs": [
    {
     "data": {
      "text/plain": [
       "['₹333K', '₹560K', '₹436K', '₹569K', '₹350K']"
      ]
     },
     "execution_count": 14,
     "metadata": {},
     "output_type": "execute_result"
    }
   ],
   "source": [
    "#scraping minimum salary\n",
    "m=driver.find_elements_by_xpath(\"//div[@class='common__RangeBarStyle__values d-flex justify-content-between ']/span\")\n",
    "min=[]\n",
    "c=0\n",
    "for i in m:\n",
    "    if c%2==0:\n",
    "        min.append(i.text.replace('\\n',''))\n",
    "    c+=1\n",
    "min[:5]"
   ]
  },
  {
   "cell_type": "code",
   "execution_count": 15,
   "metadata": {},
   "outputs": [
    {
     "data": {
      "text/plain": [
       "['₹1,080K', '₹2,147K', '₹11,274K', '₹2,648K', '₹1,565K']"
      ]
     },
     "execution_count": 15,
     "metadata": {},
     "output_type": "execute_result"
    }
   ],
   "source": [
    "#scraping max salary\n",
    "max=[]\n",
    "c=0\n",
    "for i in m:\n",
    "    if c%2==1:\n",
    "        max.append(i.text.replace('\\n',''))\n",
    "    c+=1\n",
    "max[:5]"
   ]
  },
  {
   "cell_type": "code",
   "execution_count": 17,
   "metadata": {},
   "outputs": [
    {
     "data": {
      "text/html": [
       "<div>\n",
       "<style scoped>\n",
       "    .dataframe tbody tr th:only-of-type {\n",
       "        vertical-align: middle;\n",
       "    }\n",
       "\n",
       "    .dataframe tbody tr th {\n",
       "        vertical-align: top;\n",
       "    }\n",
       "\n",
       "    .dataframe thead th {\n",
       "        text-align: right;\n",
       "    }\n",
       "</style>\n",
       "<table border=\"1\" class=\"dataframe\">\n",
       "  <thead>\n",
       "    <tr style=\"text-align: right;\">\n",
       "      <th></th>\n",
       "      <th>Company Name</th>\n",
       "      <th>Number of salaries</th>\n",
       "      <th>Average Salary</th>\n",
       "      <th>Minimum Salary</th>\n",
       "      <th>Maximum Salary</th>\n",
       "    </tr>\n",
       "  </thead>\n",
       "  <tbody>\n",
       "    <tr>\n",
       "      <th>0</th>\n",
       "      <td>Tata Consultancy Services</td>\n",
       "      <td>14 salaries</td>\n",
       "      <td>₹ 5,97,967/yr</td>\n",
       "      <td>₹333K</td>\n",
       "      <td>₹1,080K</td>\n",
       "    </tr>\n",
       "    <tr>\n",
       "      <th>1</th>\n",
       "      <td>Accenture</td>\n",
       "      <td>14 salaries</td>\n",
       "      <td>₹ 11,12,243/yr</td>\n",
       "      <td>₹560K</td>\n",
       "      <td>₹2,147K</td>\n",
       "    </tr>\n",
       "    <tr>\n",
       "      <th>2</th>\n",
       "      <td>Delhivery</td>\n",
       "      <td>14 salaries</td>\n",
       "      <td>₹ 12,12,741/yr</td>\n",
       "      <td>₹436K</td>\n",
       "      <td>₹11,274K</td>\n",
       "    </tr>\n",
       "    <tr>\n",
       "      <th>3</th>\n",
       "      <td>IBM</td>\n",
       "      <td>13 salaries</td>\n",
       "      <td>₹ 7,37,972/yr</td>\n",
       "      <td>₹569K</td>\n",
       "      <td>₹2,648K</td>\n",
       "    </tr>\n",
       "    <tr>\n",
       "      <th>4</th>\n",
       "      <td>Ericsson-Worldwide</td>\n",
       "      <td>12 salaries</td>\n",
       "      <td>₹ 7,15,984/yr</td>\n",
       "      <td>₹350K</td>\n",
       "      <td>₹1,565K</td>\n",
       "    </tr>\n",
       "    <tr>\n",
       "      <th>5</th>\n",
       "      <td>UnitedHealth Group</td>\n",
       "      <td>10 salaries</td>\n",
       "      <td>₹ 13,41,900/yr</td>\n",
       "      <td>₹1,037K</td>\n",
       "      <td>₹1,500K</td>\n",
       "    </tr>\n",
       "    <tr>\n",
       "      <th>6</th>\n",
       "      <td>Valiance Solutions</td>\n",
       "      <td>9 salaries</td>\n",
       "      <td>₹ 7,90,812/yr</td>\n",
       "      <td>₹487K</td>\n",
       "      <td>₹1,421K</td>\n",
       "    </tr>\n",
       "    <tr>\n",
       "      <th>7</th>\n",
       "      <td>Innovaccer</td>\n",
       "      <td>8 salaries</td>\n",
       "      <td>₹ 11,81,047/yr</td>\n",
       "      <td>₹602K</td>\n",
       "      <td>₹1,644K</td>\n",
       "    </tr>\n",
       "    <tr>\n",
       "      <th>8</th>\n",
       "      <td>ZS Associates</td>\n",
       "      <td>7 salaries</td>\n",
       "      <td>₹ 9,89,924/yr</td>\n",
       "      <td>₹196K</td>\n",
       "      <td>₹1,755K</td>\n",
       "    </tr>\n",
       "    <tr>\n",
       "      <th>9</th>\n",
       "      <td>EXL Service</td>\n",
       "      <td>7 salaries</td>\n",
       "      <td>₹ 11,73,127/yr</td>\n",
       "      <td>₹558K</td>\n",
       "      <td>₹1,500K</td>\n",
       "    </tr>\n",
       "  </tbody>\n",
       "</table>\n",
       "</div>"
      ],
      "text/plain": [
       "                Company Name Number of salaries  Average Salary  \\\n",
       "0  Tata Consultancy Services        14 salaries   ₹ 5,97,967/yr   \n",
       "1                  Accenture        14 salaries  ₹ 11,12,243/yr   \n",
       "2                  Delhivery        14 salaries  ₹ 12,12,741/yr   \n",
       "3                        IBM        13 salaries   ₹ 7,37,972/yr   \n",
       "4         Ericsson-Worldwide        12 salaries   ₹ 7,15,984/yr   \n",
       "5         UnitedHealth Group        10 salaries  ₹ 13,41,900/yr   \n",
       "6         Valiance Solutions         9 salaries   ₹ 7,90,812/yr   \n",
       "7                 Innovaccer         8 salaries  ₹ 11,81,047/yr   \n",
       "8              ZS Associates         7 salaries   ₹ 9,89,924/yr   \n",
       "9                EXL Service         7 salaries  ₹ 11,73,127/yr   \n",
       "\n",
       "  Minimum Salary Maximum Salary  \n",
       "0          ₹333K        ₹1,080K  \n",
       "1          ₹560K        ₹2,147K  \n",
       "2          ₹436K       ₹11,274K  \n",
       "3          ₹569K        ₹2,648K  \n",
       "4          ₹350K        ₹1,565K  \n",
       "5        ₹1,037K        ₹1,500K  \n",
       "6          ₹487K        ₹1,421K  \n",
       "7          ₹602K        ₹1,644K  \n",
       "8          ₹196K        ₹1,755K  \n",
       "9          ₹558K        ₹1,500K  "
      ]
     },
     "execution_count": 17,
     "metadata": {},
     "output_type": "execute_result"
    }
   ],
   "source": [
    "Salary=pd.DataFrame({})\n",
    "Salary['Company Name']=company_name[0:10]\n",
    "Salary['Number of salaries']=num[0:10]\n",
    "Salary['Average Salary']=avg[0:10]\n",
    "Salary['Minimum Salary']=min[0:10]\n",
    "Salary['Maximum Salary']=max[0:10]\n",
    "Salary"
   ]
  },
  {
   "cell_type": "code",
   "execution_count": null,
   "metadata": {},
   "outputs": [],
   "source": []
  },
  {
   "cell_type": "markdown",
   "metadata": {},
   "source": [
    "## Question 6"
   ]
  },
  {
   "cell_type": "code",
   "execution_count": 4,
   "metadata": {},
   "outputs": [],
   "source": [
    "driver.get('https://www.flipkart.com/')"
   ]
  },
  {
   "cell_type": "code",
   "execution_count": 5,
   "metadata": {},
   "outputs": [],
   "source": [
    "#adding sunglasses to search\n",
    "search_job=driver.find_element_by_xpath(\"//div[@class='_3OO5Xc']//input[@class='_3704LK']\")\n",
    "search_job.send_keys(\"sunglasses\")\n",
    "search_btn=driver.find_element_by_xpath(\"//button[@class='L0Z3Pu']\")\n",
    "search_btn.click()"
   ]
  },
  {
   "cell_type": "code",
   "execution_count": 6,
   "metadata": {},
   "outputs": [
    {
     "data": {
      "text/plain": [
       "['Dannilo', 'Aislin', 'Fastrack', 'phenomenal', 'PIRASO']"
      ]
     },
     "execution_count": 6,
     "metadata": {},
     "output_type": "execute_result"
    }
   ],
   "source": [
    "#scraping brands\n",
    "br=driver.find_elements_by_xpath(\"//div[@class='_2B099V']//div[@class='_2WkVRV']\")\n",
    "brand=[]\n",
    "for i in br:\n",
    "    brand.append(i.text)\n",
    "brand[:5]"
   ]
  },
  {
   "cell_type": "code",
   "execution_count": 7,
   "metadata": {},
   "outputs": [
    {
     "data": {
      "text/plain": [
       "40"
      ]
     },
     "execution_count": 7,
     "metadata": {},
     "output_type": "execute_result"
    }
   ],
   "source": [
    "len(brand)"
   ]
  },
  {
   "cell_type": "code",
   "execution_count": 8,
   "metadata": {},
   "outputs": [
    {
     "data": {
      "text/plain": [
       "['Others Round Sunglasses (Free Size)',\n",
       " 'UV Protection, Gradient Cat-eye Sunglasses (58)',\n",
       " 'UV Protection Wayfarer Sunglasses (Free Size)',\n",
       " 'UV Protection Retro Square Sunglasses (Free Size)',\n",
       " 'UV Protection Aviator Sunglasses (54)']"
      ]
     },
     "execution_count": 8,
     "metadata": {},
     "output_type": "execute_result"
    }
   ],
   "source": [
    "#scraping product description\n",
    "pd=driver.find_elements_by_xpath(\"//div[@class='_2B099V']//a[@class='IRpwTa']\")\n",
    "PD=[]\n",
    "for i in pd:\n",
    "    PD.append(i.text)\n",
    "PD[:5]"
   ]
  },
  {
   "cell_type": "code",
   "execution_count": 9,
   "metadata": {},
   "outputs": [
    {
     "data": {
      "text/plain": [
       "40"
      ]
     },
     "execution_count": 9,
     "metadata": {},
     "output_type": "execute_result"
    }
   ],
   "source": [
    "len(PD)"
   ]
  },
  {
   "cell_type": "code",
   "execution_count": 10,
   "metadata": {},
   "outputs": [
    {
     "data": {
      "text/plain": [
       "['₹232', '₹459', '₹683', '₹399', '₹187']"
      ]
     },
     "execution_count": 10,
     "metadata": {},
     "output_type": "execute_result"
    }
   ],
   "source": [
    "#scraping price\n",
    "pr=driver.find_elements_by_xpath(\"//div[@class='_25b18c']//div[@class='_30jeq3']\")\n",
    "Price=[]\n",
    "for i in pr:\n",
    "    Price.append(i.text)\n",
    "Price[:5]"
   ]
  },
  {
   "cell_type": "code",
   "execution_count": 11,
   "metadata": {},
   "outputs": [
    {
     "data": {
      "text/plain": [
       "40"
      ]
     },
     "execution_count": 11,
     "metadata": {},
     "output_type": "execute_result"
    }
   ],
   "source": [
    "len(Price)"
   ]
  },
  {
   "cell_type": "code",
   "execution_count": 12,
   "metadata": {},
   "outputs": [
    {
     "data": {
      "text/plain": [
       "['76%', '69%', '24%', '80%', '88%']"
      ]
     },
     "execution_count": 12,
     "metadata": {},
     "output_type": "execute_result"
    }
   ],
   "source": [
    "#scraping discount\n",
    "d=driver.find_elements_by_xpath(\"//div[@class='_3Ay6Sb']/span\")\n",
    "disc=[]\n",
    "for i in d:\n",
    "    disc.append(i.text.replace(' off',''))\n",
    "disc[:5]"
   ]
  },
  {
   "cell_type": "code",
   "execution_count": 13,
   "metadata": {},
   "outputs": [
    {
     "data": {
      "text/plain": [
       "40"
      ]
     },
     "execution_count": 13,
     "metadata": {},
     "output_type": "execute_result"
    }
   ],
   "source": [
    "len(disc)"
   ]
  },
  {
   "cell_type": "code",
   "execution_count": 14,
   "metadata": {},
   "outputs": [],
   "source": [
    "#acraping data from next page\n",
    "br=driver.find_elements_by_xpath(\"//div[@class='_2B099V']//div[@class='_2WkVRV']\")\n",
    "for i in br:\n",
    "    brand.append(i.text)\n",
    "    \n",
    "pd=driver.find_elements_by_xpath(\"//div[@class='_2B099V']//a[@class='IRpwTa']\")\n",
    "for i in pd:\n",
    "    PD.append(i.text)\n",
    "    \n",
    "pr=driver.find_elements_by_xpath(\"//div[@class='_25b18c']//div[@class='_30jeq3']\")\n",
    "for i in pr:\n",
    "    Price.append(i.text)\n",
    "    \n",
    "d=driver.find_elements_by_xpath(\"//div[@class='_3Ay6Sb']/span\")\n",
    "for i in d:\n",
    "    disc.append(i.text.replace(' off',''))"
   ]
  },
  {
   "cell_type": "code",
   "execution_count": 15,
   "metadata": {},
   "outputs": [
    {
     "data": {
      "text/plain": [
       "['phenomenal', 'ROYAL SON']"
      ]
     },
     "execution_count": 15,
     "metadata": {},
     "output_type": "execute_result"
    }
   ],
   "source": [
    "brand[40:42]"
   ]
  },
  {
   "cell_type": "code",
   "execution_count": 16,
   "metadata": {},
   "outputs": [],
   "source": [
    "#scraping data from third page\n",
    "br=driver.find_elements_by_xpath(\"//div[@class='_2B099V']//div[@class='_2WkVRV']\")\n",
    "for i in br[0:20]:\n",
    "    brand.append(i.text)\n",
    "    \n",
    "pd=driver.find_elements_by_xpath(\"//div[@class='_2B099V']//a[@class='IRpwTa']\")\n",
    "for i in pd[0:20]:\n",
    "    PD.append(i.text)\n",
    "    \n",
    "pr=driver.find_elements_by_xpath(\"//div[@class='_25b18c']//div[@class='_30jeq3']\")\n",
    "for i in pr[0:20]:\n",
    "    Price.append(i.text)\n",
    "    \n",
    "d=driver.find_elements_by_xpath(\"//div[@class='_3Ay6Sb']/span\")\n",
    "for i in d[0:20]:\n",
    "    disc.append(i.text.replace(' off',''))"
   ]
  },
  {
   "cell_type": "code",
   "execution_count": 17,
   "metadata": {},
   "outputs": [
    {
     "data": {
      "text/plain": [
       "(100, 100, 100, 100)"
      ]
     },
     "execution_count": 17,
     "metadata": {},
     "output_type": "execute_result"
    }
   ],
   "source": [
    "len(brand), len(PD), len(Price), len(disc)"
   ]
  },
  {
   "cell_type": "code",
   "execution_count": null,
   "metadata": {},
   "outputs": [],
   "source": []
  },
  {
   "cell_type": "markdown",
   "metadata": {},
   "source": [
    "## Question 7"
   ]
  },
  {
   "cell_type": "code",
   "execution_count": 23,
   "metadata": {},
   "outputs": [],
   "source": [
    "url='https://www.flipkart.com/apple-iphone-11-black-64-gb-includes-earpods-power-adapter/p/itm0f37c2240b217?pid=MOBFKCTSVZAXUHGR&lid=LSTMOBFKCTSVZAXUHGREPBFGI&marketplace'\n",
    "driver.get(url)"
   ]
  },
  {
   "cell_type": "code",
   "execution_count": 31,
   "metadata": {},
   "outputs": [],
   "source": [
    "rating=[]\n",
    "review=[]\n",
    "full_sum=[]"
   ]
  },
  {
   "cell_type": "code",
   "execution_count": 75,
   "metadata": {},
   "outputs": [],
   "source": [
    "#scraping all the data from same code repeatedly from one page after another\n",
    "rate=driver.find_elements_by_xpath(\"//div[@class='_3LWZlK _1BLPMq' or @class='_3LWZlK _1rdVr6 _1BLPMq']\")\n",
    "for i in rate:\n",
    "    rating.append(i.text)\n",
    "    \n",
    "rev=driver.find_elements_by_xpath(\"//div[@class='row']//p[@class='_2-N8zT']\")\n",
    "for i in rev:\n",
    "    review.append(i.text)\n",
    "    \n",
    "full=driver.find_elements_by_xpath(\"//div[@class='t-ZTKy']/div\")\n",
    "for i in full:\n",
    "    full_sum.append(i.text.replace('\\n',' '))\n"
   ]
  },
  {
   "cell_type": "code",
   "execution_count": 76,
   "metadata": {},
   "outputs": [
    {
     "data": {
      "text/plain": [
       "(100, 100, 100)"
      ]
     },
     "execution_count": 76,
     "metadata": {},
     "output_type": "execute_result"
    }
   ],
   "source": [
    "len(rating), len(review), len(full_sum)"
   ]
  },
  {
   "cell_type": "code",
   "execution_count": 80,
   "metadata": {},
   "outputs": [
    {
     "data": {
      "text/html": [
       "<div>\n",
       "<style scoped>\n",
       "    .dataframe tbody tr th:only-of-type {\n",
       "        vertical-align: middle;\n",
       "    }\n",
       "\n",
       "    .dataframe tbody tr th {\n",
       "        vertical-align: top;\n",
       "    }\n",
       "\n",
       "    .dataframe thead th {\n",
       "        text-align: right;\n",
       "    }\n",
       "</style>\n",
       "<table border=\"1\" class=\"dataframe\">\n",
       "  <thead>\n",
       "    <tr style=\"text-align: right;\">\n",
       "      <th></th>\n",
       "      <th>Rating</th>\n",
       "      <th>Review summary</th>\n",
       "      <th>Full review</th>\n",
       "    </tr>\n",
       "  </thead>\n",
       "  <tbody>\n",
       "    <tr>\n",
       "      <th>0</th>\n",
       "      <td>5</td>\n",
       "      <td>Brilliant</td>\n",
       "      <td>The Best Phone for the Money  The iPhone 11 of...</td>\n",
       "    </tr>\n",
       "    <tr>\n",
       "      <th>1</th>\n",
       "      <td>5</td>\n",
       "      <td>Perfect product!</td>\n",
       "      <td>Amazing phone with great cameras and better ba...</td>\n",
       "    </tr>\n",
       "    <tr>\n",
       "      <th>2</th>\n",
       "      <td>5</td>\n",
       "      <td>Worth every penny</td>\n",
       "      <td>Previously I was using one plus 3t it was a gr...</td>\n",
       "    </tr>\n",
       "    <tr>\n",
       "      <th>3</th>\n",
       "      <td>5</td>\n",
       "      <td>Great product</td>\n",
       "      <td>Amazing Powerful and Durable Gadget.  I’m am v...</td>\n",
       "    </tr>\n",
       "    <tr>\n",
       "      <th>4</th>\n",
       "      <td>5</td>\n",
       "      <td>Highly recommended</td>\n",
       "      <td>iphone 11 is a very good phone to buy only if ...</td>\n",
       "    </tr>\n",
       "    <tr>\n",
       "      <th>...</th>\n",
       "      <td>...</td>\n",
       "      <td>...</td>\n",
       "      <td>...</td>\n",
       "    </tr>\n",
       "    <tr>\n",
       "      <th>95</th>\n",
       "      <td>5</td>\n",
       "      <td>Terrific</td>\n",
       "      <td>I got this beast today. And I must say the pic...</td>\n",
       "    </tr>\n",
       "    <tr>\n",
       "      <th>96</th>\n",
       "      <td>5</td>\n",
       "      <td>Worth every penny</td>\n",
       "      <td>iPhone is delivered on time. Display is great ...</td>\n",
       "    </tr>\n",
       "    <tr>\n",
       "      <th>97</th>\n",
       "      <td>5</td>\n",
       "      <td>Must buy!</td>\n",
       "      <td>I will just say its an awesome phone. Starting...</td>\n",
       "    </tr>\n",
       "    <tr>\n",
       "      <th>98</th>\n",
       "      <td>5</td>\n",
       "      <td>Worth every penny</td>\n",
       "      <td>Just go for it without a second thought, if yo...</td>\n",
       "    </tr>\n",
       "    <tr>\n",
       "      <th>99</th>\n",
       "      <td>5</td>\n",
       "      <td>Fabulous!</td>\n",
       "      <td>I really liked the budget iPhone. First I thou...</td>\n",
       "    </tr>\n",
       "  </tbody>\n",
       "</table>\n",
       "<p>100 rows × 3 columns</p>\n",
       "</div>"
      ],
      "text/plain": [
       "   Rating      Review summary  \\\n",
       "0       5           Brilliant   \n",
       "1       5    Perfect product!   \n",
       "2       5   Worth every penny   \n",
       "3       5       Great product   \n",
       "4       5  Highly recommended   \n",
       "..    ...                 ...   \n",
       "95      5            Terrific   \n",
       "96      5   Worth every penny   \n",
       "97      5           Must buy!   \n",
       "98      5   Worth every penny   \n",
       "99      5           Fabulous!   \n",
       "\n",
       "                                          Full review  \n",
       "0   The Best Phone for the Money  The iPhone 11 of...  \n",
       "1   Amazing phone with great cameras and better ba...  \n",
       "2   Previously I was using one plus 3t it was a gr...  \n",
       "3   Amazing Powerful and Durable Gadget.  I’m am v...  \n",
       "4   iphone 11 is a very good phone to buy only if ...  \n",
       "..                                                ...  \n",
       "95  I got this beast today. And I must say the pic...  \n",
       "96  iPhone is delivered on time. Display is great ...  \n",
       "97  I will just say its an awesome phone. Starting...  \n",
       "98  Just go for it without a second thought, if yo...  \n",
       "99  I really liked the budget iPhone. First I thou...  \n",
       "\n",
       "[100 rows x 3 columns]"
      ]
     },
     "execution_count": 80,
     "metadata": {},
     "output_type": "execute_result"
    }
   ],
   "source": [
    "Product_review=pd.DataFrame({})\n",
    "Product_review['Rating']=rating\n",
    "Product_review['Review summary']=review\n",
    "Product_review['Full review']=full_sum\n",
    "Product_review"
   ]
  },
  {
   "cell_type": "code",
   "execution_count": null,
   "metadata": {},
   "outputs": [],
   "source": []
  },
  {
   "cell_type": "markdown",
   "metadata": {},
   "source": [
    "## Question 8"
   ]
  },
  {
   "cell_type": "code",
   "execution_count": 91,
   "metadata": {},
   "outputs": [],
   "source": [
    "driver.get('https://www.flipkart.com/')"
   ]
  },
  {
   "cell_type": "code",
   "execution_count": 92,
   "metadata": {},
   "outputs": [],
   "source": [
    "#adding sneakers to search\n",
    "search_job=driver.find_element_by_xpath(\"//div[@class='_3OO5Xc']//input[@class='_3704LK']\")\n",
    "search_job.send_keys(\"sneakers\")\n",
    "search_btn=driver.find_element_by_xpath(\"//button[@class='L0Z3Pu']\")\n",
    "search_btn.click()"
   ]
  },
  {
   "cell_type": "code",
   "execution_count": 93,
   "metadata": {},
   "outputs": [
    {
     "data": {
      "text/plain": [
       "['French Connection', 'DUCATI', 'Chevit', 'Extoes', 'Robbie jones']"
      ]
     },
     "execution_count": 93,
     "metadata": {},
     "output_type": "execute_result"
    }
   ],
   "source": [
    "#scraping brand\n",
    "br=driver.find_elements_by_xpath(\"//div[@class='_2B099V']//div[@class='_2WkVRV']\")\n",
    "brand=[]\n",
    "for i in br:\n",
    "    brand.append(i.text)\n",
    "brand[:5]"
   ]
  },
  {
   "cell_type": "code",
   "execution_count": 94,
   "metadata": {},
   "outputs": [
    {
     "data": {
      "text/plain": [
       "40"
      ]
     },
     "execution_count": 94,
     "metadata": {},
     "output_type": "execute_result"
    }
   ],
   "source": [
    "len(brand)"
   ]
  },
  {
   "cell_type": "code",
   "execution_count": 98,
   "metadata": {},
   "outputs": [
    {
     "data": {
      "text/plain": [
       "['Sneakers For Men',\n",
       " 'Sneakers For Men',\n",
       " 'Perfect & Affordable Combo Pack of 02 Pairs Sneakers Ou...',\n",
       " 'Modern Trendy Shoes Combo pack of 4 Sneakers For Men',\n",
       " 'Casual Sneakers Shoes For Men Sneakers For Men']"
      ]
     },
     "execution_count": 98,
     "metadata": {},
     "output_type": "execute_result"
    }
   ],
   "source": [
    "#scraping product descritpion\n",
    "pd=driver.find_elements_by_xpath(\"//div[@class='_2B099V']//a[@class='IRpwTa' or @class='IRpwTa _2-ICcC']\")\n",
    "PD=[]\n",
    "for i in pd:\n",
    "    PD.append(i.text)\n",
    "PD[:5]"
   ]
  },
  {
   "cell_type": "code",
   "execution_count": 99,
   "metadata": {},
   "outputs": [
    {
     "data": {
      "text/plain": [
       "40"
      ]
     },
     "execution_count": 99,
     "metadata": {},
     "output_type": "execute_result"
    }
   ],
   "source": [
    "len(PD)"
   ]
  },
  {
   "cell_type": "code",
   "execution_count": 100,
   "metadata": {},
   "outputs": [
    {
     "data": {
      "text/plain": [
       "['₹680', '₹2,099', '₹499', '₹795', '₹379']"
      ]
     },
     "execution_count": 100,
     "metadata": {},
     "output_type": "execute_result"
    }
   ],
   "source": [
    "#scraping price\n",
    "pr=driver.find_elements_by_xpath(\"//div[@class='_25b18c']//div[@class='_30jeq3']\")\n",
    "Price=[]\n",
    "for i in pr:\n",
    "    Price.append(i.text)\n",
    "Price[:5]"
   ]
  },
  {
   "cell_type": "code",
   "execution_count": 101,
   "metadata": {},
   "outputs": [
    {
     "data": {
      "text/plain": [
       "40"
      ]
     },
     "execution_count": 101,
     "metadata": {},
     "output_type": "execute_result"
    }
   ],
   "source": [
    "len(Price)"
   ]
  },
  {
   "cell_type": "code",
   "execution_count": 102,
   "metadata": {},
   "outputs": [
    {
     "data": {
      "text/plain": [
       "['65%', '41%', '72%', '46%', '62%']"
      ]
     },
     "execution_count": 102,
     "metadata": {},
     "output_type": "execute_result"
    }
   ],
   "source": [
    "#scraping discount\n",
    "d=driver.find_elements_by_xpath(\"//div[@class='_3Ay6Sb']/span\")\n",
    "disc=[]\n",
    "for i in d:\n",
    "    disc.append(i.text.replace(' off',''))\n",
    "disc[:5]"
   ]
  },
  {
   "cell_type": "code",
   "execution_count": 103,
   "metadata": {},
   "outputs": [
    {
     "data": {
      "text/plain": [
       "38"
      ]
     },
     "execution_count": 103,
     "metadata": {},
     "output_type": "execute_result"
    }
   ],
   "source": [
    "len(disc)"
   ]
  },
  {
   "cell_type": "code",
   "execution_count": 104,
   "metadata": {},
   "outputs": [],
   "source": [
    "br=driver.find_elements_by_xpath(\"//div[@class='_2B099V']//div[@class='_2WkVRV']\")\n",
    "for i in br:\n",
    "    brand.append(i.text)\n",
    "    \n",
    "pd=driver.find_elements_by_xpath(\"//div[@class='_2B099V']//a[@class='IRpwTa' or @class='IRpwTa _2-ICcC']\")\n",
    "for i in pd:\n",
    "    PD.append(i.text)\n",
    "    \n",
    "pr=driver.find_elements_by_xpath(\"//div[@class='_25b18c']//div[@class='_30jeq3']\")\n",
    "for i in pr:\n",
    "    Price.append(i.text)\n",
    "    \n",
    "d=driver.find_elements_by_xpath(\"//div[@class='_3Ay6Sb']/span\")\n",
    "for i in d:\n",
    "    disc.append(i.text.replace(' off',''))"
   ]
  },
  {
   "cell_type": "code",
   "execution_count": 105,
   "metadata": {},
   "outputs": [],
   "source": [
    "br=driver.find_elements_by_xpath(\"//div[@class='_2B099V']//div[@class='_2WkVRV']\")\n",
    "for i in br[0:20]:\n",
    "    brand.append(i.text)\n",
    "    \n",
    "pd=driver.find_elements_by_xpath(\"//div[@class='_2B099V']//a[@class='IRpwTa' or @class='IRpwTa _2-ICcC']\")\n",
    "for i in pd[0:20]:\n",
    "    PD.append(i.text)\n",
    "    \n",
    "pr=driver.find_elements_by_xpath(\"//div[@class='_25b18c']//div[@class='_30jeq3']\")\n",
    "for i in pr[0:20]:\n",
    "    Price.append(i.text)\n",
    "    \n",
    "d=driver.find_elements_by_xpath(\"//div[@class='_3Ay6Sb']/span\")\n",
    "for i in d[0:20]:\n",
    "    disc.append(i.text.replace(' off',''))"
   ]
  },
  {
   "cell_type": "code",
   "execution_count": 106,
   "metadata": {},
   "outputs": [
    {
     "data": {
      "text/plain": [
       "(100, 100, 100, 96)"
      ]
     },
     "execution_count": 106,
     "metadata": {},
     "output_type": "execute_result"
    }
   ],
   "source": [
    "len(brand), len(PD), len(Price), len(disc)"
   ]
  },
  {
   "cell_type": "code",
   "execution_count": null,
   "metadata": {},
   "outputs": [],
   "source": []
  },
  {
   "cell_type": "markdown",
   "metadata": {},
   "source": [
    "## Question 9"
   ]
  },
  {
   "cell_type": "code",
   "execution_count": null,
   "metadata": {},
   "outputs": [],
   "source": []
  },
  {
   "cell_type": "code",
   "execution_count": 56,
   "metadata": {},
   "outputs": [],
   "source": [
    "driver.get('https://www.myntra.com/shoes')"
   ]
  },
  {
   "cell_type": "code",
   "execution_count": 48,
   "metadata": {},
   "outputs": [],
   "source": [
    "#applying price filter\n",
    "price_filter=driver.find_elements_by_xpath(\"//label[@class='common-customCheckbox vertical-filters-label']\")\n",
    "for x in price_filter:\n",
    "    if x.text=='Rs. 6649 to Rs. 13099(619)':\n",
    "        x.click()\n",
    "        break"
   ]
  },
  {
   "cell_type": "code",
   "execution_count": 47,
   "metadata": {},
   "outputs": [],
   "source": [
    "#applying color filter\n",
    "col_filter=driver.find_elements_by_xpath(\"//label[@class='common-customCheckbox']\")\n",
    "for x in col_filter:\n",
    "    if x.text=='Black (17306)':\n",
    "        x.click()\n",
    "        break"
   ]
  },
  {
   "cell_type": "code",
   "execution_count": 49,
   "metadata": {},
   "outputs": [
    {
     "data": {
      "text/plain": [
       "['ALDO', 'Nike', 'Bugatti', 'Nike', 'Nike']"
      ]
     },
     "execution_count": 49,
     "metadata": {},
     "output_type": "execute_result"
    }
   ],
   "source": [
    "#scraping brand\n",
    "br=driver.find_elements_by_xpath(\"//div[@class='product-productMetaInfo']//h3[@class='product-brand']\")\n",
    "brand=[]\n",
    "for i in br:\n",
    "    brand.append(i.text)\n",
    "brand[:5]"
   ]
  },
  {
   "cell_type": "code",
   "execution_count": 50,
   "metadata": {},
   "outputs": [
    {
     "data": {
      "text/plain": [
       "50"
      ]
     },
     "execution_count": 50,
     "metadata": {},
     "output_type": "execute_result"
    }
   ],
   "source": [
    "len(brand)"
   ]
  },
  {
   "cell_type": "code",
   "execution_count": 51,
   "metadata": {},
   "outputs": [
    {
     "data": {
      "text/plain": [
       "['Men Leather Loafers',\n",
       " 'Men KD13 EP Basketball Shoes',\n",
       " 'Men Perforated Mule Sneakers',\n",
       " 'Men AIR ZOOM Running Shoes',\n",
       " 'Men React Infinity Running']"
      ]
     },
     "execution_count": 51,
     "metadata": {},
     "output_type": "execute_result"
    }
   ],
   "source": [
    "#scraping description\n",
    "ds=driver.find_elements_by_xpath(\"//div[@class='product-productMetaInfo']//h4[@class='product-product']\")\n",
    "desc=[]\n",
    "for i in ds:\n",
    "    desc.append(i.text)\n",
    "desc[:5]"
   ]
  },
  {
   "cell_type": "code",
   "execution_count": 54,
   "metadata": {},
   "outputs": [
    {
     "data": {
      "text/plain": [
       "['Rs. 7799',\n",
       " 'Rs. 12995',\n",
       " 'Rs. 6999',\n",
       " 'Rs. 10121',\n",
       " 'Rs. 10846',\n",
       " 'Rs. 7999',\n",
       " 'Rs. 8246',\n",
       " 'Rs. 7197',\n",
       " 'Rs. 8295',\n",
       " 'Rs. 6996']"
      ]
     },
     "execution_count": 54,
     "metadata": {},
     "output_type": "execute_result"
    }
   ],
   "source": [
    "#scraping price from individual url of each product\n",
    "url=driver.find_elements_by_xpath(\"//a[@target='_blank']\")\n",
    "UR=[]\n",
    "for i in url:\n",
    "    UR.append(i.get_attribute('href'))\n",
    "for u in UR:\n",
    "    driver.get(u)\n",
    "    pr=driver.find_elements_by_xpath(\"//span[@class='pdp-price']/strong\")\n",
    "    for i in pr:\n",
    "        price.append(i.text)\n",
    "price[:10]"
   ]
  },
  {
   "cell_type": "code",
   "execution_count": 55,
   "metadata": {},
   "outputs": [
    {
     "data": {
      "text/plain": [
       "50"
      ]
     },
     "execution_count": 55,
     "metadata": {},
     "output_type": "execute_result"
    }
   ],
   "source": [
    "len(price)"
   ]
  },
  {
   "cell_type": "code",
   "execution_count": 57,
   "metadata": {},
   "outputs": [],
   "source": [
    "#repeating same steps for next page\n",
    "br=driver.find_elements_by_xpath(\"//div[@class='product-productMetaInfo']//h3[@class='product-brand']\")\n",
    "for i in br:\n",
    "    brand.append(i.text)\n",
    "\n",
    "ds=driver.find_elements_by_xpath(\"//div[@class='product-productMetaInfo']//h4[@class='product-product']\")\n",
    "for i in ds:\n",
    "    desc.append(i.text)\n",
    "    \n",
    "url=driver.find_elements_by_xpath(\"//a[@target='_blank']\")\n",
    "URL=[]\n",
    "for i in url:\n",
    "    URL.append(i.get_attribute('href'))\n",
    "for u in URL:\n",
    "    driver.get(u)\n",
    "    pr=driver.find_elements_by_xpath(\"//span[@class='pdp-price']/strong\")\n",
    "    for i in pr:\n",
    "        price.append(i.text)"
   ]
  },
  {
   "cell_type": "code",
   "execution_count": 58,
   "metadata": {},
   "outputs": [
    {
     "data": {
      "text/plain": [
       "(100, 100, 100)"
      ]
     },
     "execution_count": 58,
     "metadata": {},
     "output_type": "execute_result"
    }
   ],
   "source": [
    "len(brand), len(desc), len(price)"
   ]
  },
  {
   "cell_type": "code",
   "execution_count": null,
   "metadata": {},
   "outputs": [],
   "source": []
  },
  {
   "cell_type": "markdown",
   "metadata": {},
   "source": [
    "## Question 10"
   ]
  },
  {
   "cell_type": "code",
   "execution_count": 76,
   "metadata": {},
   "outputs": [],
   "source": [
    "driver.get('https://www.amazon.in/')"
   ]
  },
  {
   "cell_type": "code",
   "execution_count": 77,
   "metadata": {},
   "outputs": [],
   "source": [
    "#adding laptops to search\n",
    "search_pro=driver.find_element_by_id('twotabsearchtextbox')\n",
    "search_pro.send_keys(\"laptop\")\n",
    "search_btn=driver.find_element_by_id('nav-search-submit-button')\n",
    "search_btn.click()"
   ]
  },
  {
   "cell_type": "code",
   "execution_count": 78,
   "metadata": {},
   "outputs": [],
   "source": [
    "#applying core filter\n",
    "filter=driver.find_elements_by_xpath(\"//a[@class='a-link-normal s-navigation-item']/span\")\n",
    "for x in filter:\n",
    "    if x.text=='Intel Core i7':\n",
    "        x.click()\n",
    "        break"
   ]
  },
  {
   "cell_type": "code",
   "execution_count": 79,
   "metadata": {},
   "outputs": [],
   "source": [
    "#applying core filter\n",
    "filter=driver.find_elements_by_xpath(\"//a[@class='a-link-normal s-navigation-item']/span\")\n",
    "for x in filter:\n",
    "    if x.text=='Intel Core i9':\n",
    "        x.click()\n",
    "        break"
   ]
  },
  {
   "cell_type": "code",
   "execution_count": 80,
   "metadata": {},
   "outputs": [
    {
     "data": {
      "text/plain": [
       "['Lenovo IdeaPad Flex 5 11th Gen Intel Core i7 14-inch FHD IPS 2-in-1 Touchscreen Laptop (16GB/512GB SSD/Win 10/Office 2019/Lenovo Digital Pen Stylus/Fingerprint Reader/Graphite Grey/1.5Kg), 82HS0092IN',\n",
       " 'ASUS ZenBook 14 (2020) Intel Core i7-1165G7 11th Gen 14-inch FHD Thin and Light Laptop (16GB RAM/512GB NVMe SSD/Windows 10/MS Office 2019/Intel Iris Xᵉ Graphics/Pine Grey/1.17 kg), UX425EA-BM701TS',\n",
       " 'ASUS ROG G703GI-E5148T 17.3-inch FHD 144Hz/3ms Gaming Laptop (8th Gen Intel Core i9-8950HK/64GB/2TB SSHD + 1.5TB NVMe SSD/Windows 10/GTX 1080 8GB Graphics/4.70 Kg), Aluminum',\n",
       " 'Dell Alienware m15(R3) 15.6-inch FHD Gaming Laptop (10th Gen Core i7-10750H/16GB/512GB SSD/Windows 10 Home & MS Office/6GB NVIDIA GTX 1660 Ti Graphics), Lunar Light',\n",
       " 'Dell XPS 9570 15.6-inch UHD Laptop (8th Gen i9-8950HK/32GB/1TB SSD/Win 10 + MS Office/Integrated Graphics), Silver']"
      ]
     },
     "execution_count": 80,
     "metadata": {},
     "output_type": "execute_result"
    }
   ],
   "source": [
    "#scraping title\n",
    "t=driver.find_elements_by_xpath(\"//div[@class='a-section a-spacing-none']/h2\")\n",
    "title=[]\n",
    "for i in t[:10]:\n",
    "    title.append(i.text)\n",
    "title[:5]"
   ]
  },
  {
   "cell_type": "code",
   "execution_count": 81,
   "metadata": {},
   "outputs": [
    {
     "data": {
      "text/plain": [
       "['₹86,790', '₹95,993', '₹5,22,077', '₹1,98,590', '₹2,27,200']"
      ]
     },
     "execution_count": 81,
     "metadata": {},
     "output_type": "execute_result"
    }
   ],
   "source": [
    "#scraping price\n",
    "pr=driver.find_elements_by_xpath(\"//span[@class='a-price']\")\n",
    "price=[]\n",
    "for i in pr[:10]:\n",
    "    price.append(i.text)\n",
    "price[:5]"
   ]
  },
  {
   "cell_type": "code",
   "execution_count": 92,
   "metadata": {},
   "outputs": [
    {
     "data": {
      "text/plain": [
       "['4.2 out of 5',\n",
       " '4.4 out of 5',\n",
       " '3.9 out of 5',\n",
       " '3 out of 5',\n",
       " '2.3 out of 5',\n",
       " '4.6 out of 5',\n",
       " '4.4 out of 5',\n",
       " '4.3 out of 5',\n",
       " '3.3 out of 5',\n",
       " '3.4 out of 5']"
      ]
     },
     "execution_count": 92,
     "metadata": {},
     "output_type": "execute_result"
    }
   ],
   "source": [
    "#scraping rating individually from each product\n",
    "Rate=[]\n",
    "url=driver.find_elements_by_xpath(\"//a[@class='a-link-normal a-text-normal']\")\n",
    "UR=[]\n",
    "for i in url[:10]:\n",
    "    UR.append(i.get_attribute('href'))\n",
    "for u in UR:\n",
    "    driver.get(u)\n",
    "    rate=driver.find_element_by_xpath(\"//span[@id='acrCustomerReviewText']\")\n",
    "    rate.click()\n",
    "    rating=driver.find_element_by_xpath(\"//span[@class='a-size-medium a-color-base']\")\n",
    "    Rate.append(rating.text)\n",
    "Rate[:10]"
   ]
  },
  {
   "cell_type": "code",
   "execution_count": null,
   "metadata": {},
   "outputs": [],
   "source": []
  }
 ],
 "metadata": {
  "kernelspec": {
   "display_name": "Python 3",
   "language": "python",
   "name": "python3"
  },
  "language_info": {
   "codemirror_mode": {
    "name": "ipython",
    "version": 3
   },
   "file_extension": ".py",
   "mimetype": "text/x-python",
   "name": "python",
   "nbconvert_exporter": "python",
   "pygments_lexer": "ipython3",
   "version": "3.8.3"
  }
 },
 "nbformat": 4,
 "nbformat_minor": 4
}
